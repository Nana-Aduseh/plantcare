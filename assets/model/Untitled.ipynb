{
 "cells": [
  {
   "cell_type": "code",
   "execution_count": 1,
   "id": "bfdd7d2b-9186-40f8-9ba1-a44ec3b16b55",
   "metadata": {},
   "outputs": [
    {
     "name": "stderr",
     "output_type": "stream",
     "text": [
      "C:\\Users\\Nana Kojo\\anaconda3\\Lib\\site-packages\\keras\\src\\saving\\saving_lib.py:719: UserWarning: Skipping variable loading for optimizer 'rmsprop', because it has 26 variables whereas the saved optimizer has 50 variables. \n",
      "  saveable.load_own_variables(weights_store.get(inner_path))\n"
     ]
    },
    {
     "name": "stdout",
     "output_type": "stream",
     "text": [
      "INFO:tensorflow:Assets written to: C:\\Users\\NANAKO~1\\AppData\\Local\\Temp\\tmpvfkljl1e\\assets\n"
     ]
    },
    {
     "name": "stderr",
     "output_type": "stream",
     "text": [
      "INFO:tensorflow:Assets written to: C:\\Users\\NANAKO~1\\AppData\\Local\\Temp\\tmpvfkljl1e\\assets\n"
     ]
    },
    {
     "name": "stdout",
     "output_type": "stream",
     "text": [
      "Saved artifact at 'C:\\Users\\NANAKO~1\\AppData\\Local\\Temp\\tmpvfkljl1e'. The following endpoints are available:\n",
      "\n",
      "* Endpoint 'serve'\n",
      "  args_0 (POSITIONAL_ONLY): TensorSpec(shape=(None, 128, 128, 3), dtype=tf.float32, name='input_layer')\n",
      "Output Type:\n",
      "  TensorSpec(shape=(None, 17), dtype=tf.float32, name=None)\n",
      "Captures:\n",
      "  2726691329168: TensorSpec(shape=(), dtype=tf.resource, name=None)\n",
      "  2726691328784: TensorSpec(shape=(), dtype=tf.resource, name=None)\n",
      "  2726691330128: TensorSpec(shape=(), dtype=tf.resource, name=None)\n",
      "  2726691331088: TensorSpec(shape=(), dtype=tf.resource, name=None)\n",
      "  2726691331280: TensorSpec(shape=(), dtype=tf.resource, name=None)\n",
      "  2726691331664: TensorSpec(shape=(), dtype=tf.resource, name=None)\n",
      "  2726691332816: TensorSpec(shape=(), dtype=tf.resource, name=None)\n",
      "  2726691334160: TensorSpec(shape=(), dtype=tf.resource, name=None)\n",
      "  2726691333392: TensorSpec(shape=(), dtype=tf.resource, name=None)\n",
      "  2726691334928: TensorSpec(shape=(), dtype=tf.resource, name=None)\n",
      "  2726691334544: TensorSpec(shape=(), dtype=tf.resource, name=None)\n",
      "  2726691335504: TensorSpec(shape=(), dtype=tf.resource, name=None)\n",
      "  2726691332624: TensorSpec(shape=(), dtype=tf.resource, name=None)\n",
      "  2726691336464: TensorSpec(shape=(), dtype=tf.resource, name=None)\n",
      "  2726691336656: TensorSpec(shape=(), dtype=tf.resource, name=None)\n",
      "  2726691337232: TensorSpec(shape=(), dtype=tf.resource, name=None)\n",
      "  2726691335888: TensorSpec(shape=(), dtype=tf.resource, name=None)\n",
      "  2726691338384: TensorSpec(shape=(), dtype=tf.resource, name=None)\n",
      "  2726691336848: TensorSpec(shape=(), dtype=tf.resource, name=None)\n",
      "  2726691339536: TensorSpec(shape=(), dtype=tf.resource, name=None)\n",
      "  2726710396304: TensorSpec(shape=(), dtype=tf.resource, name=None)\n",
      "  2726710397456: TensorSpec(shape=(), dtype=tf.resource, name=None)\n",
      "  2726710399568: TensorSpec(shape=(), dtype=tf.resource, name=None)\n",
      "  2726710400720: TensorSpec(shape=(), dtype=tf.resource, name=None)\n"
     ]
    }
   ],
   "source": [
    "import tensorflow as tf\n",
    "\n",
    "# Load original Keras model\n",
    "model = tf.keras.models.load_model(\"trained_model.keras\")  # or .h5\n",
    "\n",
    "# Set up converter with only TFLite built-in ops\n",
    "converter = tf.lite.TFLiteConverter.from_keras_model(model)\n",
    "converter.target_spec.supported_ops = [tf.lite.OpsSet.TFLITE_BUILTINS]\n",
    "\n",
    "# Convert to TFLite format\n",
    "tflite_model = converter.convert()\n",
    "\n",
    "# Save the TFLite model\n",
    "with open(\"plant_disease_model_compatible.tflite\", \"wb\") as f:\n",
    "    f.write(tflite_model)\n"
   ]
  },
  {
   "cell_type": "code",
   "execution_count": null,
   "id": "f1ce1750-2eab-4c3c-ba52-3a3fd65d0a40",
   "metadata": {},
   "outputs": [],
   "source": []
  }
 ],
 "metadata": {
  "kernelspec": {
   "display_name": "Python 3 (ipykernel)",
   "language": "python",
   "name": "python3"
  },
  "language_info": {
   "codemirror_mode": {
    "name": "ipython",
    "version": 3
   },
   "file_extension": ".py",
   "mimetype": "text/x-python",
   "name": "python",
   "nbconvert_exporter": "python",
   "pygments_lexer": "ipython3",
   "version": "3.11.7"
  }
 },
 "nbformat": 4,
 "nbformat_minor": 5
}
